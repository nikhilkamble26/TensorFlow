{
 "cells": [
  {
   "cell_type": "code",
   "execution_count": 1,
   "id": "fb88fedb",
   "metadata": {},
   "outputs": [],
   "source": [
    "import tensorflow as tf\n",
    "import numpy as np"
   ]
  },
  {
   "cell_type": "code",
   "execution_count": 2,
   "id": "91c59060",
   "metadata": {},
   "outputs": [],
   "source": [
    "from sklearn.datasets import load_breast_cancer"
   ]
  },
  {
   "cell_type": "code",
   "execution_count": 3,
   "id": "c6ea35c8",
   "metadata": {},
   "outputs": [],
   "source": [
    "data = load_breast_cancer()"
   ]
  },
  {
   "cell_type": "code",
   "execution_count": 4,
   "id": "df0ba8f6",
   "metadata": {},
   "outputs": [
    {
     "data": {
      "text/plain": [
       "sklearn.utils.Bunch"
      ]
     },
     "execution_count": 4,
     "metadata": {},
     "output_type": "execute_result"
    }
   ],
   "source": [
    "type(data)"
   ]
  },
  {
   "cell_type": "code",
   "execution_count": 5,
   "id": "05cf6eba",
   "metadata": {},
   "outputs": [
    {
     "data": {
      "text/plain": [
       "{'data': array([[1.799e+01, 1.038e+01, 1.228e+02, ..., 2.654e-01, 4.601e-01,\n",
       "         1.189e-01],\n",
       "        [2.057e+01, 1.777e+01, 1.329e+02, ..., 1.860e-01, 2.750e-01,\n",
       "         8.902e-02],\n",
       "        [1.969e+01, 2.125e+01, 1.300e+02, ..., 2.430e-01, 3.613e-01,\n",
       "         8.758e-02],\n",
       "        ...,\n",
       "        [1.660e+01, 2.808e+01, 1.083e+02, ..., 1.418e-01, 2.218e-01,\n",
       "         7.820e-02],\n",
       "        [2.060e+01, 2.933e+01, 1.401e+02, ..., 2.650e-01, 4.087e-01,\n",
       "         1.240e-01],\n",
       "        [7.760e+00, 2.454e+01, 4.792e+01, ..., 0.000e+00, 2.871e-01,\n",
       "         7.039e-02]]),\n",
       " 'target': array([0, 0, 0, 0, 0, 0, 0, 0, 0, 0, 0, 0, 0, 0, 0, 0, 0, 0, 0, 1, 1, 1,\n",
       "        0, 0, 0, 0, 0, 0, 0, 0, 0, 0, 0, 0, 0, 0, 0, 1, 0, 0, 0, 0, 0, 0,\n",
       "        0, 0, 1, 0, 1, 1, 1, 1, 1, 0, 0, 1, 0, 0, 1, 1, 1, 1, 0, 1, 0, 0,\n",
       "        1, 1, 1, 1, 0, 1, 0, 0, 1, 0, 1, 0, 0, 1, 1, 1, 0, 0, 1, 0, 0, 0,\n",
       "        1, 1, 1, 0, 1, 1, 0, 0, 1, 1, 1, 0, 0, 1, 1, 1, 1, 0, 1, 1, 0, 1,\n",
       "        1, 1, 1, 1, 1, 1, 1, 0, 0, 0, 1, 0, 0, 1, 1, 1, 0, 0, 1, 0, 1, 0,\n",
       "        0, 1, 0, 0, 1, 1, 0, 1, 1, 0, 1, 1, 1, 1, 0, 1, 1, 1, 1, 1, 1, 1,\n",
       "        1, 1, 0, 1, 1, 1, 1, 0, 0, 1, 0, 1, 1, 0, 0, 1, 1, 0, 0, 1, 1, 1,\n",
       "        1, 0, 1, 1, 0, 0, 0, 1, 0, 1, 0, 1, 1, 1, 0, 1, 1, 0, 0, 1, 0, 0,\n",
       "        0, 0, 1, 0, 0, 0, 1, 0, 1, 0, 1, 1, 0, 1, 0, 0, 0, 0, 1, 1, 0, 0,\n",
       "        1, 1, 1, 0, 1, 1, 1, 1, 1, 0, 0, 1, 1, 0, 1, 1, 0, 0, 1, 0, 1, 1,\n",
       "        1, 1, 0, 1, 1, 1, 1, 1, 0, 1, 0, 0, 0, 0, 0, 0, 0, 0, 0, 0, 0, 0,\n",
       "        0, 0, 1, 1, 1, 1, 1, 1, 0, 1, 0, 1, 1, 0, 1, 1, 0, 1, 0, 0, 1, 1,\n",
       "        1, 1, 1, 1, 1, 1, 1, 1, 1, 1, 1, 0, 1, 1, 0, 1, 0, 1, 1, 1, 1, 1,\n",
       "        1, 1, 1, 1, 1, 1, 1, 1, 1, 0, 1, 1, 1, 0, 1, 0, 1, 1, 1, 1, 0, 0,\n",
       "        0, 1, 1, 1, 1, 0, 1, 0, 1, 0, 1, 1, 1, 0, 1, 1, 1, 1, 1, 1, 1, 0,\n",
       "        0, 0, 1, 1, 1, 1, 1, 1, 1, 1, 1, 1, 1, 0, 0, 1, 0, 0, 0, 1, 0, 0,\n",
       "        1, 1, 1, 1, 1, 0, 1, 1, 1, 1, 1, 0, 1, 1, 1, 0, 1, 1, 0, 0, 1, 1,\n",
       "        1, 1, 1, 1, 0, 1, 1, 1, 1, 1, 1, 1, 0, 1, 1, 1, 1, 1, 0, 1, 1, 0,\n",
       "        1, 1, 1, 1, 1, 1, 1, 1, 1, 1, 1, 1, 0, 1, 0, 0, 1, 0, 1, 1, 1, 1,\n",
       "        1, 0, 1, 1, 0, 1, 0, 1, 1, 0, 1, 0, 1, 1, 1, 1, 1, 1, 1, 1, 0, 0,\n",
       "        1, 1, 1, 1, 1, 1, 0, 1, 1, 1, 1, 1, 1, 1, 1, 1, 1, 0, 1, 1, 1, 1,\n",
       "        1, 1, 1, 0, 1, 0, 1, 1, 0, 1, 1, 1, 1, 1, 0, 0, 1, 0, 1, 0, 1, 1,\n",
       "        1, 1, 1, 0, 1, 1, 0, 1, 0, 1, 0, 0, 1, 1, 1, 0, 1, 1, 1, 1, 1, 1,\n",
       "        1, 1, 1, 1, 1, 0, 1, 0, 0, 1, 1, 1, 1, 1, 1, 1, 1, 1, 1, 1, 1, 1,\n",
       "        1, 1, 1, 1, 1, 1, 1, 1, 1, 1, 1, 1, 0, 0, 0, 0, 0, 0, 1]),\n",
       " 'frame': None,\n",
       " 'target_names': array(['malignant', 'benign'], dtype='<U9'),\n",
       " 'DESCR': '.. _breast_cancer_dataset:\\n\\nBreast cancer wisconsin (diagnostic) dataset\\n--------------------------------------------\\n\\n**Data Set Characteristics:**\\n\\n    :Number of Instances: 569\\n\\n    :Number of Attributes: 30 numeric, predictive attributes and the class\\n\\n    :Attribute Information:\\n        - radius (mean of distances from center to points on the perimeter)\\n        - texture (standard deviation of gray-scale values)\\n        - perimeter\\n        - area\\n        - smoothness (local variation in radius lengths)\\n        - compactness (perimeter^2 / area - 1.0)\\n        - concavity (severity of concave portions of the contour)\\n        - concave points (number of concave portions of the contour)\\n        - symmetry\\n        - fractal dimension (\"coastline approximation\" - 1)\\n\\n        The mean, standard error, and \"worst\" or largest (mean of the three\\n        worst/largest values) of these features were computed for each image,\\n        resulting in 30 features.  For instance, field 0 is Mean Radius, field\\n        10 is Radius SE, field 20 is Worst Radius.\\n\\n        - class:\\n                - WDBC-Malignant\\n                - WDBC-Benign\\n\\n    :Summary Statistics:\\n\\n    ===================================== ====== ======\\n                                           Min    Max\\n    ===================================== ====== ======\\n    radius (mean):                        6.981  28.11\\n    texture (mean):                       9.71   39.28\\n    perimeter (mean):                     43.79  188.5\\n    area (mean):                          143.5  2501.0\\n    smoothness (mean):                    0.053  0.163\\n    compactness (mean):                   0.019  0.345\\n    concavity (mean):                     0.0    0.427\\n    concave points (mean):                0.0    0.201\\n    symmetry (mean):                      0.106  0.304\\n    fractal dimension (mean):             0.05   0.097\\n    radius (standard error):              0.112  2.873\\n    texture (standard error):             0.36   4.885\\n    perimeter (standard error):           0.757  21.98\\n    area (standard error):                6.802  542.2\\n    smoothness (standard error):          0.002  0.031\\n    compactness (standard error):         0.002  0.135\\n    concavity (standard error):           0.0    0.396\\n    concave points (standard error):      0.0    0.053\\n    symmetry (standard error):            0.008  0.079\\n    fractal dimension (standard error):   0.001  0.03\\n    radius (worst):                       7.93   36.04\\n    texture (worst):                      12.02  49.54\\n    perimeter (worst):                    50.41  251.2\\n    area (worst):                         185.2  4254.0\\n    smoothness (worst):                   0.071  0.223\\n    compactness (worst):                  0.027  1.058\\n    concavity (worst):                    0.0    1.252\\n    concave points (worst):               0.0    0.291\\n    symmetry (worst):                     0.156  0.664\\n    fractal dimension (worst):            0.055  0.208\\n    ===================================== ====== ======\\n\\n    :Missing Attribute Values: None\\n\\n    :Class Distribution: 212 - Malignant, 357 - Benign\\n\\n    :Creator:  Dr. William H. Wolberg, W. Nick Street, Olvi L. Mangasarian\\n\\n    :Donor: Nick Street\\n\\n    :Date: November, 1995\\n\\nThis is a copy of UCI ML Breast Cancer Wisconsin (Diagnostic) datasets.\\nhttps://goo.gl/U2Uwz2\\n\\nFeatures are computed from a digitized image of a fine needle\\naspirate (FNA) of a breast mass.  They describe\\ncharacteristics of the cell nuclei present in the image.\\n\\nSeparating plane described above was obtained using\\nMultisurface Method-Tree (MSM-T) [K. P. Bennett, \"Decision Tree\\nConstruction Via Linear Programming.\" Proceedings of the 4th\\nMidwest Artificial Intelligence and Cognitive Science Society,\\npp. 97-101, 1992], a classification method which uses linear\\nprogramming to construct a decision tree.  Relevant features\\nwere selected using an exhaustive search in the space of 1-4\\nfeatures and 1-3 separating planes.\\n\\nThe actual linear program used to obtain the separating plane\\nin the 3-dimensional space is that described in:\\n[K. P. Bennett and O. L. Mangasarian: \"Robust Linear\\nProgramming Discrimination of Two Linearly Inseparable Sets\",\\nOptimization Methods and Software 1, 1992, 23-34].\\n\\nThis database is also available through the UW CS ftp server:\\n\\nftp ftp.cs.wisc.edu\\ncd math-prog/cpo-dataset/machine-learn/WDBC/\\n\\n.. topic:: References\\n\\n   - W.N. Street, W.H. Wolberg and O.L. Mangasarian. Nuclear feature extraction \\n     for breast tumor diagnosis. IS&T/SPIE 1993 International Symposium on \\n     Electronic Imaging: Science and Technology, volume 1905, pages 861-870,\\n     San Jose, CA, 1993.\\n   - O.L. Mangasarian, W.N. Street and W.H. Wolberg. Breast cancer diagnosis and \\n     prognosis via linear programming. Operations Research, 43(4), pages 570-577, \\n     July-August 1995.\\n   - W.H. Wolberg, W.N. Street, and O.L. Mangasarian. Machine learning techniques\\n     to diagnose breast cancer from fine-needle aspirates. Cancer Letters 77 (1994) \\n     163-171.',\n",
       " 'feature_names': array(['mean radius', 'mean texture', 'mean perimeter', 'mean area',\n",
       "        'mean smoothness', 'mean compactness', 'mean concavity',\n",
       "        'mean concave points', 'mean symmetry', 'mean fractal dimension',\n",
       "        'radius error', 'texture error', 'perimeter error', 'area error',\n",
       "        'smoothness error', 'compactness error', 'concavity error',\n",
       "        'concave points error', 'symmetry error',\n",
       "        'fractal dimension error', 'worst radius', 'worst texture',\n",
       "        'worst perimeter', 'worst area', 'worst smoothness',\n",
       "        'worst compactness', 'worst concavity', 'worst concave points',\n",
       "        'worst symmetry', 'worst fractal dimension'], dtype='<U23'),\n",
       " 'filename': 'breast_cancer.csv',\n",
       " 'data_module': 'sklearn.datasets.data'}"
      ]
     },
     "execution_count": 5,
     "metadata": {},
     "output_type": "execute_result"
    }
   ],
   "source": [
    "data"
   ]
  },
  {
   "cell_type": "code",
   "execution_count": 6,
   "id": "e37635c9",
   "metadata": {},
   "outputs": [
    {
     "data": {
      "text/plain": [
       "dict_keys(['data', 'target', 'frame', 'target_names', 'DESCR', 'feature_names', 'filename', 'data_module'])"
      ]
     },
     "execution_count": 6,
     "metadata": {},
     "output_type": "execute_result"
    }
   ],
   "source": [
    "data.keys()"
   ]
  },
  {
   "cell_type": "code",
   "execution_count": 7,
   "id": "3e734693",
   "metadata": {},
   "outputs": [
    {
     "data": {
      "text/plain": [
       "(569, 30)"
      ]
     },
     "execution_count": 7,
     "metadata": {},
     "output_type": "execute_result"
    }
   ],
   "source": [
    "data.data.shape"
   ]
  },
  {
   "cell_type": "code",
   "execution_count": 9,
   "id": "a5d904a4",
   "metadata": {},
   "outputs": [
    {
     "data": {
      "text/plain": [
       "array([[1.799e+01, 1.038e+01, 1.228e+02, ..., 2.654e-01, 4.601e-01,\n",
       "        1.189e-01],\n",
       "       [2.057e+01, 1.777e+01, 1.329e+02, ..., 1.860e-01, 2.750e-01,\n",
       "        8.902e-02],\n",
       "       [1.969e+01, 2.125e+01, 1.300e+02, ..., 2.430e-01, 3.613e-01,\n",
       "        8.758e-02],\n",
       "       ...,\n",
       "       [1.660e+01, 2.808e+01, 1.083e+02, ..., 1.418e-01, 2.218e-01,\n",
       "        7.820e-02],\n",
       "       [2.060e+01, 2.933e+01, 1.401e+02, ..., 2.650e-01, 4.087e-01,\n",
       "        1.240e-01],\n",
       "       [7.760e+00, 2.454e+01, 4.792e+01, ..., 0.000e+00, 2.871e-01,\n",
       "        7.039e-02]])"
      ]
     },
     "execution_count": 9,
     "metadata": {},
     "output_type": "execute_result"
    }
   ],
   "source": [
    "data.data"
   ]
  },
  {
   "cell_type": "code",
   "execution_count": 20,
   "id": "f627272c",
   "metadata": {},
   "outputs": [
    {
     "data": {
      "text/plain": [
       "(569,)"
      ]
     },
     "execution_count": 20,
     "metadata": {},
     "output_type": "execute_result"
    }
   ],
   "source": [
    "data.target.shape"
   ]
  },
  {
   "cell_type": "code",
   "execution_count": 12,
   "id": "87059bed",
   "metadata": {},
   "outputs": [
    {
     "data": {
      "text/plain": [
       "array(['malignant', 'benign'], dtype='<U9')"
      ]
     },
     "execution_count": 12,
     "metadata": {},
     "output_type": "execute_result"
    }
   ],
   "source": [
    "data.target_names"
   ]
  },
  {
   "cell_type": "code",
   "execution_count": 18,
   "id": "d1bda85a",
   "metadata": {},
   "outputs": [
    {
     "data": {
      "text/plain": [
       "array([0, 0, 0, 0, 0, 0, 0, 0, 0, 0, 0, 0, 0, 0, 0, 0, 0, 0, 0, 1, 1, 1,\n",
       "       0, 0, 0, 0, 0, 0, 0, 0])"
      ]
     },
     "execution_count": 18,
     "metadata": {},
     "output_type": "execute_result"
    }
   ],
   "source": [
    "data.target[:30]"
   ]
  },
  {
   "cell_type": "code",
   "execution_count": 21,
   "id": "571eab64",
   "metadata": {},
   "outputs": [
    {
     "data": {
      "text/plain": [
       "array(['mean radius', 'mean texture', 'mean perimeter', 'mean area',\n",
       "       'mean smoothness', 'mean compactness', 'mean concavity',\n",
       "       'mean concave points', 'mean symmetry', 'mean fractal dimension',\n",
       "       'radius error', 'texture error', 'perimeter error', 'area error',\n",
       "       'smoothness error', 'compactness error', 'concavity error',\n",
       "       'concave points error', 'symmetry error',\n",
       "       'fractal dimension error', 'worst radius', 'worst texture',\n",
       "       'worst perimeter', 'worst area', 'worst smoothness',\n",
       "       'worst compactness', 'worst concavity', 'worst concave points',\n",
       "       'worst symmetry', 'worst fractal dimension'], dtype='<U23')"
      ]
     },
     "execution_count": 21,
     "metadata": {},
     "output_type": "execute_result"
    }
   ],
   "source": [
    "data.feature_names"
   ]
  },
  {
   "cell_type": "code",
   "execution_count": 22,
   "id": "1a5a4e84",
   "metadata": {},
   "outputs": [],
   "source": [
    "from sklearn.model_selection import train_test_split\n",
    "\n",
    "X_train,X_test,y_train,y_test = train_test_split(data.data,data.target,test_size=0.33)\n",
    "N,D = X_train.shape"
   ]
  },
  {
   "cell_type": "code",
   "execution_count": 25,
   "id": "21bd2677",
   "metadata": {},
   "outputs": [],
   "source": [
    "from sklearn.preprocessing import StandardScaler\n",
    "\n",
    "scaler = StandardScaler()\n",
    "X_train = scaler.fit_transform(X_train)\n",
    "X_test = scaler.fit_transform(X_test)"
   ]
  },
  {
   "cell_type": "code",
   "execution_count": 26,
   "id": "c30e925f",
   "metadata": {},
   "outputs": [
    {
     "name": "stdout",
     "output_type": "stream",
     "text": [
      "Epoch 1/100\n",
      "12/12 [==============================] - 0s 11ms/step - loss: 0.7694 - accuracy: 0.5066 - val_loss: 0.7571 - val_accuracy: 0.5691\n",
      "Epoch 2/100\n",
      "12/12 [==============================] - 0s 2ms/step - loss: 0.6881 - accuracy: 0.6063 - val_loss: 0.6823 - val_accuracy: 0.6383\n",
      "Epoch 3/100\n",
      "12/12 [==============================] - 0s 2ms/step - loss: 0.6188 - accuracy: 0.6745 - val_loss: 0.6171 - val_accuracy: 0.6915\n",
      "Epoch 4/100\n",
      "12/12 [==============================] - 0s 2ms/step - loss: 0.5612 - accuracy: 0.7297 - val_loss: 0.5603 - val_accuracy: 0.7766\n",
      "Epoch 5/100\n",
      "12/12 [==============================] - 0s 2ms/step - loss: 0.5106 - accuracy: 0.7717 - val_loss: 0.5134 - val_accuracy: 0.8138\n",
      "Epoch 6/100\n",
      "12/12 [==============================] - 0s 2ms/step - loss: 0.4684 - accuracy: 0.8084 - val_loss: 0.4740 - val_accuracy: 0.8404\n",
      "Epoch 7/100\n",
      "12/12 [==============================] - 0s 2ms/step - loss: 0.4327 - accuracy: 0.8425 - val_loss: 0.4405 - val_accuracy: 0.8617\n",
      "Epoch 8/100\n",
      "12/12 [==============================] - 0s 2ms/step - loss: 0.4024 - accuracy: 0.8740 - val_loss: 0.4115 - val_accuracy: 0.8564\n",
      "Epoch 9/100\n",
      "12/12 [==============================] - 0s 2ms/step - loss: 0.3759 - accuracy: 0.8871 - val_loss: 0.3867 - val_accuracy: 0.8830\n",
      "Epoch 10/100\n",
      "12/12 [==============================] - 0s 2ms/step - loss: 0.3534 - accuracy: 0.9055 - val_loss: 0.3647 - val_accuracy: 0.8883\n",
      "Epoch 11/100\n",
      "12/12 [==============================] - 0s 2ms/step - loss: 0.3328 - accuracy: 0.9265 - val_loss: 0.3459 - val_accuracy: 0.8936\n",
      "Epoch 12/100\n",
      "12/12 [==============================] - 0s 2ms/step - loss: 0.3150 - accuracy: 0.9318 - val_loss: 0.3295 - val_accuracy: 0.9043\n",
      "Epoch 13/100\n",
      "12/12 [==============================] - 0s 2ms/step - loss: 0.2995 - accuracy: 0.9344 - val_loss: 0.3148 - val_accuracy: 0.9149\n",
      "Epoch 14/100\n",
      "12/12 [==============================] - 0s 2ms/step - loss: 0.2854 - accuracy: 0.9370 - val_loss: 0.3016 - val_accuracy: 0.9149\n",
      "Epoch 15/100\n",
      "12/12 [==============================] - 0s 2ms/step - loss: 0.2729 - accuracy: 0.9423 - val_loss: 0.2897 - val_accuracy: 0.9255\n",
      "Epoch 16/100\n",
      "12/12 [==============================] - 0s 2ms/step - loss: 0.2615 - accuracy: 0.9475 - val_loss: 0.2791 - val_accuracy: 0.9255\n",
      "Epoch 17/100\n",
      "12/12 [==============================] - 0s 2ms/step - loss: 0.2511 - accuracy: 0.9528 - val_loss: 0.2695 - val_accuracy: 0.9309\n",
      "Epoch 18/100\n",
      "12/12 [==============================] - 0s 2ms/step - loss: 0.2417 - accuracy: 0.9580 - val_loss: 0.2608 - val_accuracy: 0.9309\n",
      "Epoch 19/100\n",
      "12/12 [==============================] - 0s 2ms/step - loss: 0.2332 - accuracy: 0.9580 - val_loss: 0.2529 - val_accuracy: 0.9309\n",
      "Epoch 20/100\n",
      "12/12 [==============================] - 0s 2ms/step - loss: 0.2254 - accuracy: 0.9580 - val_loss: 0.2455 - val_accuracy: 0.9309\n",
      "Epoch 21/100\n",
      "12/12 [==============================] - 0s 2ms/step - loss: 0.2180 - accuracy: 0.9606 - val_loss: 0.2390 - val_accuracy: 0.9309\n",
      "Epoch 22/100\n",
      "12/12 [==============================] - 0s 3ms/step - loss: 0.2115 - accuracy: 0.9633 - val_loss: 0.2328 - val_accuracy: 0.9362\n",
      "Epoch 23/100\n",
      "12/12 [==============================] - 0s 2ms/step - loss: 0.2052 - accuracy: 0.9633 - val_loss: 0.2273 - val_accuracy: 0.9362\n",
      "Epoch 24/100\n",
      "12/12 [==============================] - 0s 2ms/step - loss: 0.1996 - accuracy: 0.9633 - val_loss: 0.2221 - val_accuracy: 0.9415\n",
      "Epoch 25/100\n",
      "12/12 [==============================] - 0s 2ms/step - loss: 0.1941 - accuracy: 0.9633 - val_loss: 0.2173 - val_accuracy: 0.9415\n",
      "Epoch 26/100\n",
      "12/12 [==============================] - 0s 2ms/step - loss: 0.1893 - accuracy: 0.9633 - val_loss: 0.2127 - val_accuracy: 0.9415\n",
      "Epoch 27/100\n",
      "12/12 [==============================] - 0s 2ms/step - loss: 0.1845 - accuracy: 0.9633 - val_loss: 0.2086 - val_accuracy: 0.9415\n",
      "Epoch 28/100\n",
      "12/12 [==============================] - 0s 2ms/step - loss: 0.1803 - accuracy: 0.9659 - val_loss: 0.2046 - val_accuracy: 0.9521\n",
      "Epoch 29/100\n",
      "12/12 [==============================] - 0s 2ms/step - loss: 0.1761 - accuracy: 0.9685 - val_loss: 0.2008 - val_accuracy: 0.9521\n",
      "Epoch 30/100\n",
      "12/12 [==============================] - 0s 2ms/step - loss: 0.1722 - accuracy: 0.9685 - val_loss: 0.1973 - val_accuracy: 0.9521\n",
      "Epoch 31/100\n",
      "12/12 [==============================] - 0s 2ms/step - loss: 0.1686 - accuracy: 0.9685 - val_loss: 0.1941 - val_accuracy: 0.9521\n",
      "Epoch 32/100\n",
      "12/12 [==============================] - 0s 2ms/step - loss: 0.1651 - accuracy: 0.9685 - val_loss: 0.1911 - val_accuracy: 0.9521\n",
      "Epoch 33/100\n",
      "12/12 [==============================] - 0s 2ms/step - loss: 0.1618 - accuracy: 0.9685 - val_loss: 0.1882 - val_accuracy: 0.9574\n",
      "Epoch 34/100\n",
      "12/12 [==============================] - 0s 2ms/step - loss: 0.1587 - accuracy: 0.9685 - val_loss: 0.1855 - val_accuracy: 0.9574\n",
      "Epoch 35/100\n",
      "12/12 [==============================] - 0s 2ms/step - loss: 0.1558 - accuracy: 0.9685 - val_loss: 0.1830 - val_accuracy: 0.9574\n",
      "Epoch 36/100\n",
      "12/12 [==============================] - 0s 2ms/step - loss: 0.1531 - accuracy: 0.9685 - val_loss: 0.1804 - val_accuracy: 0.9574\n",
      "Epoch 37/100\n",
      "12/12 [==============================] - 0s 2ms/step - loss: 0.1503 - accuracy: 0.9685 - val_loss: 0.1781 - val_accuracy: 0.9574\n",
      "Epoch 38/100\n",
      "12/12 [==============================] - 0s 2ms/step - loss: 0.1478 - accuracy: 0.9685 - val_loss: 0.1759 - val_accuracy: 0.9574\n",
      "Epoch 39/100\n",
      "12/12 [==============================] - 0s 2ms/step - loss: 0.1454 - accuracy: 0.9685 - val_loss: 0.1738 - val_accuracy: 0.9574\n",
      "Epoch 40/100\n",
      "12/12 [==============================] - 0s 2ms/step - loss: 0.1431 - accuracy: 0.9738 - val_loss: 0.1718 - val_accuracy: 0.9574\n",
      "Epoch 41/100\n",
      "12/12 [==============================] - 0s 3ms/step - loss: 0.1408 - accuracy: 0.9738 - val_loss: 0.1699 - val_accuracy: 0.9574\n",
      "Epoch 42/100\n",
      "12/12 [==============================] - 0s 2ms/step - loss: 0.1387 - accuracy: 0.9738 - val_loss: 0.1681 - val_accuracy: 0.9574\n",
      "Epoch 43/100\n",
      "12/12 [==============================] - 0s 2ms/step - loss: 0.1367 - accuracy: 0.9738 - val_loss: 0.1663 - val_accuracy: 0.9574\n",
      "Epoch 44/100\n",
      "12/12 [==============================] - 0s 2ms/step - loss: 0.1347 - accuracy: 0.9738 - val_loss: 0.1647 - val_accuracy: 0.9574\n",
      "Epoch 45/100\n",
      "12/12 [==============================] - 0s 2ms/step - loss: 0.1328 - accuracy: 0.9738 - val_loss: 0.1631 - val_accuracy: 0.9574\n",
      "Epoch 46/100\n",
      "12/12 [==============================] - 0s 2ms/step - loss: 0.1311 - accuracy: 0.9764 - val_loss: 0.1615 - val_accuracy: 0.9574\n",
      "Epoch 47/100\n",
      "12/12 [==============================] - 0s 2ms/step - loss: 0.1293 - accuracy: 0.9764 - val_loss: 0.1601 - val_accuracy: 0.9628\n",
      "Epoch 48/100\n",
      "12/12 [==============================] - 0s 2ms/step - loss: 0.1276 - accuracy: 0.9764 - val_loss: 0.1587 - val_accuracy: 0.9628\n",
      "Epoch 49/100\n",
      "12/12 [==============================] - 0s 2ms/step - loss: 0.1260 - accuracy: 0.9764 - val_loss: 0.1574 - val_accuracy: 0.9628\n",
      "Epoch 50/100\n",
      "12/12 [==============================] - 0s 2ms/step - loss: 0.1245 - accuracy: 0.9764 - val_loss: 0.1561 - val_accuracy: 0.9628\n",
      "Epoch 51/100\n",
      "12/12 [==============================] - 0s 2ms/step - loss: 0.1229 - accuracy: 0.9764 - val_loss: 0.1549 - val_accuracy: 0.9628\n",
      "Epoch 52/100\n",
      "12/12 [==============================] - 0s 2ms/step - loss: 0.1215 - accuracy: 0.9764 - val_loss: 0.1536 - val_accuracy: 0.9628\n",
      "Epoch 53/100\n",
      "12/12 [==============================] - 0s 2ms/step - loss: 0.1201 - accuracy: 0.9764 - val_loss: 0.1525 - val_accuracy: 0.9628\n",
      "Epoch 54/100\n",
      "12/12 [==============================] - 0s 2ms/step - loss: 0.1187 - accuracy: 0.9764 - val_loss: 0.1514 - val_accuracy: 0.9628\n",
      "Epoch 55/100\n",
      "12/12 [==============================] - 0s 2ms/step - loss: 0.1174 - accuracy: 0.9764 - val_loss: 0.1503 - val_accuracy: 0.9628\n",
      "Epoch 56/100\n",
      "12/12 [==============================] - 0s 2ms/step - loss: 0.1161 - accuracy: 0.9764 - val_loss: 0.1493 - val_accuracy: 0.9628\n",
      "Epoch 57/100\n",
      "12/12 [==============================] - 0s 2ms/step - loss: 0.1149 - accuracy: 0.9764 - val_loss: 0.1483 - val_accuracy: 0.9628\n",
      "Epoch 58/100\n",
      "12/12 [==============================] - 0s 2ms/step - loss: 0.1137 - accuracy: 0.9764 - val_loss: 0.1473 - val_accuracy: 0.9628\n"
     ]
    },
    {
     "name": "stdout",
     "output_type": "stream",
     "text": [
      "Epoch 59/100\n",
      "12/12 [==============================] - 0s 2ms/step - loss: 0.1125 - accuracy: 0.9764 - val_loss: 0.1464 - val_accuracy: 0.9628\n",
      "Epoch 60/100\n",
      "12/12 [==============================] - 0s 2ms/step - loss: 0.1114 - accuracy: 0.9764 - val_loss: 0.1455 - val_accuracy: 0.9628\n",
      "Epoch 61/100\n",
      "12/12 [==============================] - 0s 2ms/step - loss: 0.1103 - accuracy: 0.9764 - val_loss: 0.1446 - val_accuracy: 0.9628\n",
      "Epoch 62/100\n",
      "12/12 [==============================] - 0s 2ms/step - loss: 0.1092 - accuracy: 0.9764 - val_loss: 0.1437 - val_accuracy: 0.9628\n",
      "Epoch 63/100\n",
      "12/12 [==============================] - 0s 2ms/step - loss: 0.1082 - accuracy: 0.9764 - val_loss: 0.1429 - val_accuracy: 0.9628\n",
      "Epoch 64/100\n",
      "12/12 [==============================] - 0s 2ms/step - loss: 0.1071 - accuracy: 0.9764 - val_loss: 0.1422 - val_accuracy: 0.9628\n",
      "Epoch 65/100\n",
      "12/12 [==============================] - 0s 2ms/step - loss: 0.1062 - accuracy: 0.9790 - val_loss: 0.1414 - val_accuracy: 0.9628\n",
      "Epoch 66/100\n",
      "12/12 [==============================] - 0s 2ms/step - loss: 0.1052 - accuracy: 0.9816 - val_loss: 0.1406 - val_accuracy: 0.9628\n",
      "Epoch 67/100\n",
      "12/12 [==============================] - 0s 2ms/step - loss: 0.1043 - accuracy: 0.9816 - val_loss: 0.1399 - val_accuracy: 0.9628\n",
      "Epoch 68/100\n",
      "12/12 [==============================] - 0s 2ms/step - loss: 0.1033 - accuracy: 0.9816 - val_loss: 0.1392 - val_accuracy: 0.9628\n",
      "Epoch 69/100\n",
      "12/12 [==============================] - 0s 2ms/step - loss: 0.1024 - accuracy: 0.9816 - val_loss: 0.1385 - val_accuracy: 0.9628\n",
      "Epoch 70/100\n",
      "12/12 [==============================] - 0s 2ms/step - loss: 0.1016 - accuracy: 0.9816 - val_loss: 0.1378 - val_accuracy: 0.9628\n",
      "Epoch 71/100\n",
      "12/12 [==============================] - 0s 2ms/step - loss: 0.1007 - accuracy: 0.9816 - val_loss: 0.1372 - val_accuracy: 0.9628\n",
      "Epoch 72/100\n",
      "12/12 [==============================] - 0s 2ms/step - loss: 0.0999 - accuracy: 0.9816 - val_loss: 0.1366 - val_accuracy: 0.9681\n",
      "Epoch 73/100\n",
      "12/12 [==============================] - 0s 2ms/step - loss: 0.0991 - accuracy: 0.9816 - val_loss: 0.1360 - val_accuracy: 0.9681\n",
      "Epoch 74/100\n",
      "12/12 [==============================] - 0s 2ms/step - loss: 0.0983 - accuracy: 0.9816 - val_loss: 0.1354 - val_accuracy: 0.9681\n",
      "Epoch 75/100\n",
      "12/12 [==============================] - 0s 2ms/step - loss: 0.0975 - accuracy: 0.9816 - val_loss: 0.1348 - val_accuracy: 0.9681\n",
      "Epoch 76/100\n",
      "12/12 [==============================] - 0s 2ms/step - loss: 0.0968 - accuracy: 0.9816 - val_loss: 0.1343 - val_accuracy: 0.9681\n",
      "Epoch 77/100\n",
      "12/12 [==============================] - 0s 2ms/step - loss: 0.0960 - accuracy: 0.9816 - val_loss: 0.1337 - val_accuracy: 0.9681\n",
      "Epoch 78/100\n",
      "12/12 [==============================] - 0s 2ms/step - loss: 0.0953 - accuracy: 0.9816 - val_loss: 0.1332 - val_accuracy: 0.9681\n",
      "Epoch 79/100\n",
      "12/12 [==============================] - 0s 2ms/step - loss: 0.0946 - accuracy: 0.9816 - val_loss: 0.1326 - val_accuracy: 0.9681\n",
      "Epoch 80/100\n",
      "12/12 [==============================] - 0s 2ms/step - loss: 0.0939 - accuracy: 0.9816 - val_loss: 0.1322 - val_accuracy: 0.9681\n",
      "Epoch 81/100\n",
      "12/12 [==============================] - 0s 2ms/step - loss: 0.0932 - accuracy: 0.9816 - val_loss: 0.1317 - val_accuracy: 0.9681\n",
      "Epoch 82/100\n",
      "12/12 [==============================] - 0s 2ms/step - loss: 0.0926 - accuracy: 0.9816 - val_loss: 0.1311 - val_accuracy: 0.9681\n",
      "Epoch 83/100\n",
      "12/12 [==============================] - 0s 2ms/step - loss: 0.0919 - accuracy: 0.9816 - val_loss: 0.1307 - val_accuracy: 0.9681\n",
      "Epoch 84/100\n",
      "12/12 [==============================] - 0s 2ms/step - loss: 0.0913 - accuracy: 0.9816 - val_loss: 0.1302 - val_accuracy: 0.9681\n",
      "Epoch 85/100\n",
      "12/12 [==============================] - 0s 2ms/step - loss: 0.0906 - accuracy: 0.9816 - val_loss: 0.1298 - val_accuracy: 0.9681\n",
      "Epoch 86/100\n",
      "12/12 [==============================] - 0s 2ms/step - loss: 0.0900 - accuracy: 0.9816 - val_loss: 0.1293 - val_accuracy: 0.9681\n",
      "Epoch 87/100\n",
      "12/12 [==============================] - 0s 2ms/step - loss: 0.0894 - accuracy: 0.9816 - val_loss: 0.1289 - val_accuracy: 0.9681\n",
      "Epoch 88/100\n",
      "12/12 [==============================] - 0s 2ms/step - loss: 0.0888 - accuracy: 0.9816 - val_loss: 0.1285 - val_accuracy: 0.9681\n",
      "Epoch 89/100\n",
      "12/12 [==============================] - 0s 2ms/step - loss: 0.0882 - accuracy: 0.9816 - val_loss: 0.1281 - val_accuracy: 0.9681\n",
      "Epoch 90/100\n",
      "12/12 [==============================] - 0s 2ms/step - loss: 0.0877 - accuracy: 0.9816 - val_loss: 0.1277 - val_accuracy: 0.9681\n",
      "Epoch 91/100\n",
      "12/12 [==============================] - 0s 2ms/step - loss: 0.0871 - accuracy: 0.9790 - val_loss: 0.1273 - val_accuracy: 0.9681\n",
      "Epoch 92/100\n",
      "12/12 [==============================] - 0s 2ms/step - loss: 0.0865 - accuracy: 0.9790 - val_loss: 0.1269 - val_accuracy: 0.9681\n",
      "Epoch 93/100\n",
      "12/12 [==============================] - 0s 2ms/step - loss: 0.0860 - accuracy: 0.9790 - val_loss: 0.1266 - val_accuracy: 0.9681\n",
      "Epoch 94/100\n",
      "12/12 [==============================] - 0s 2ms/step - loss: 0.0855 - accuracy: 0.9790 - val_loss: 0.1262 - val_accuracy: 0.9681\n",
      "Epoch 95/100\n",
      "12/12 [==============================] - 0s 2ms/step - loss: 0.0849 - accuracy: 0.9790 - val_loss: 0.1258 - val_accuracy: 0.9681\n",
      "Epoch 96/100\n",
      "12/12 [==============================] - 0s 2ms/step - loss: 0.0844 - accuracy: 0.9816 - val_loss: 0.1255 - val_accuracy: 0.9681\n",
      "Epoch 97/100\n",
      "12/12 [==============================] - 0s 2ms/step - loss: 0.0839 - accuracy: 0.9816 - val_loss: 0.1252 - val_accuracy: 0.9681\n",
      "Epoch 98/100\n",
      "12/12 [==============================] - 0s 2ms/step - loss: 0.0834 - accuracy: 0.9816 - val_loss: 0.1249 - val_accuracy: 0.9681\n",
      "Epoch 99/100\n",
      "12/12 [==============================] - 0s 2ms/step - loss: 0.0830 - accuracy: 0.9816 - val_loss: 0.1245 - val_accuracy: 0.9681\n",
      "Epoch 100/100\n",
      "12/12 [==============================] - 0s 2ms/step - loss: 0.0825 - accuracy: 0.9816 - val_loss: 0.1242 - val_accuracy: 0.9681\n",
      "12/12 [==============================] - 0s 748us/step - loss: 0.0822 - accuracy: 0.9816\n",
      "train score : [0.08216560631990433, 0.9816272854804993]\n",
      "6/6 [==============================] - 0s 793us/step - loss: 0.1242 - accuracy: 0.9681\n",
      "test score  : [0.12420634925365448, 0.9680851101875305]\n"
     ]
    }
   ],
   "source": [
    "model = tf.keras.models.Sequential([\n",
    "    tf.keras.layers.Input(shape=(D,)),\n",
    "    tf.keras.layers.Dense(1,activation='sigmoid')\n",
    "])\n",
    "\n",
    "model.compile(optimizer='adam',\n",
    "             loss='binary_crossentropy',\n",
    "             metrics=['accuracy'])\n",
    "\n",
    "r = model.fit(X_train, y_train, validation_data=(X_test,y_test),epochs=100)\n",
    "\n",
    "print('train score :',model.evaluate(X_train,y_train))\n",
    "print('test score  :',model.evaluate(X_test,y_test))\n"
   ]
  },
  {
   "cell_type": "code",
   "execution_count": 32,
   "id": "1e289f94",
   "metadata": {},
   "outputs": [
    {
     "data": {
      "text/plain": [
       "<matplotlib.legend.Legend at 0x29dfe1ab640>"
      ]
     },
     "execution_count": 32,
     "metadata": {},
     "output_type": "execute_result"
    },
    {
     "data": {
      "image/png": "[encoded data removed]",
      "text/plain": [
       "<Figure size 432x288 with 1 Axes>"
      ]
     },
     "metadata": {
      "needs_background": "light"
     },
     "output_type": "display_data"
    }
   ],
   "source": [
    "import matplotlib.pyplot as plt\n",
    "plt.plot(r.history['loss'],label='loss') # training loss\n",
    "plt.plot(r.history['val_loss'],label='val_loss') # validation loss\n",
    "plt.legend()"
   ]
  },
  {
   "cell_type": "code",
   "execution_count": 35,
   "id": "ce6d5669",
   "metadata": {},
   "outputs": [
    {
     "data": {
      "text/plain": [
       "<matplotlib.legend.Legend at 0x29d8a1b8160>"
      ]
     },
     "execution_count": 35,
     "metadata": {},
     "output_type": "execute_result"
    },
    {
     "data": {
      "image/png": "[encoded data removed]",
      "text/plain": [
       "<Figure size 432x288 with 1 Axes>"
      ]
     },
     "metadata": {
      "needs_background": "light"
     },
     "output_type": "display_data"
    }
   ],
   "source": [
    "plt.plot(r.history['accuracy'],label='acc')  # training accuracy\n",
    "plt.plot(r.history['val_accuracy'],label='val_acc')  # validation accuracy\n",
    "plt.legend()"
   ]
  },
  {
   "cell_type": "markdown",
   "id": "202a3bc3",
   "metadata": {},
   "source": [
    "# Making Predictions"
   ]
  },
  {
   "cell_type": "code",
   "execution_count": 40,
   "id": "933e7391",
   "metadata": {},
   "outputs": [
    {
     "name": "stdout",
     "output_type": "stream",
     "text": [
      "[[8.84361289e-05]\n",
      " [7.42801967e-06]\n",
      " [9.89248991e-01]\n",
      " [9.98649240e-01]\n",
      " [9.96853471e-01]\n",
      " [9.94040132e-01]\n",
      " [5.38318157e-02]\n",
      " [9.98764515e-01]\n",
      " [9.88154948e-01]\n",
      " [8.26467752e-01]\n",
      " [2.16535896e-01]\n",
      " [2.20480561e-03]\n",
      " [6.48981333e-03]\n",
      " [9.93514717e-01]\n",
      " [9.95665550e-01]\n",
      " [9.98935223e-01]\n",
      " [6.86105907e-01]\n",
      " [4.96686697e-02]\n",
      " [9.70290184e-01]\n",
      " [9.62521851e-01]\n",
      " [7.38224387e-03]\n",
      " [5.88664007e-05]\n",
      " [9.92422462e-01]\n",
      " [5.47349453e-04]\n",
      " [9.64599609e-01]\n",
      " [9.98284578e-01]\n",
      " [9.98867095e-01]\n",
      " [4.68879938e-04]\n",
      " [9.92991865e-01]\n",
      " [9.96869087e-01]\n",
      " [4.80815351e-01]\n",
      " [9.96527970e-01]\n",
      " [1.00873141e-08]\n",
      " [9.72766995e-01]\n",
      " [6.07034564e-03]\n",
      " [4.38284278e-02]\n",
      " [9.69805956e-01]\n",
      " [3.36438417e-04]\n",
      " [2.23486859e-05]\n",
      " [9.26220775e-01]\n",
      " [4.24239248e-01]\n",
      " [9.07976151e-01]\n",
      " [9.93999958e-01]\n",
      " [2.32639313e-02]\n",
      " [9.97942924e-01]\n",
      " [9.78320479e-01]\n",
      " [9.91104007e-01]\n",
      " [9.61554527e-01]\n",
      " [2.86591949e-05]\n",
      " [4.54635799e-01]\n",
      " [9.93536234e-01]\n",
      " [8.18709671e-01]\n",
      " [1.19616985e-02]\n",
      " [1.01327896e-03]\n",
      " [9.97832775e-01]\n",
      " [9.97037530e-01]\n",
      " [6.28549218e-01]\n",
      " [9.92759943e-01]\n",
      " [9.99484420e-01]\n",
      " [8.98901224e-01]\n",
      " [9.96019125e-01]\n",
      " [8.77304971e-01]\n",
      " [9.92673278e-01]\n",
      " [8.88311982e-01]\n",
      " [9.99473453e-01]\n",
      " [9.98273969e-01]\n",
      " [1.28779004e-06]\n",
      " [1.15478635e-02]\n",
      " [6.06992944e-05]\n",
      " [7.01335788e-01]\n",
      " [9.97182846e-01]\n",
      " [9.08169746e-01]\n",
      " [9.51457381e-01]\n",
      " [4.29657102e-02]\n",
      " [9.15871263e-02]\n",
      " [7.78195556e-07]\n",
      " [1.88678503e-04]\n",
      " [9.99546409e-01]\n",
      " [7.37616420e-03]\n",
      " [9.56535339e-01]\n",
      " [2.80857086e-04]\n",
      " [6.75976276e-04]\n",
      " [9.99305844e-01]\n",
      " [9.30854678e-03]\n",
      " [8.29202771e-01]\n",
      " [1.65640322e-05]\n",
      " [9.87053335e-01]\n",
      " [1.24843121e-02]\n",
      " [9.98915434e-01]\n",
      " [2.55171448e-01]\n",
      " [9.97324944e-01]\n",
      " [5.60684502e-01]\n",
      " [2.34770477e-02]\n",
      " [9.97984409e-01]\n",
      " [9.78545904e-01]\n",
      " [2.12526023e-02]\n",
      " [9.62757230e-01]\n",
      " [1.18482113e-03]\n",
      " [7.74324358e-01]\n",
      " [3.17866579e-06]\n",
      " [1.09431148e-02]\n",
      " [9.85761881e-01]\n",
      " [8.92979503e-01]\n",
      " [9.84364033e-01]\n",
      " [9.82887089e-01]\n",
      " [9.65465426e-01]\n",
      " [4.05711830e-02]\n",
      " [8.40931833e-02]\n",
      " [9.24765468e-01]\n",
      " [3.85726094e-02]\n",
      " [9.26554918e-01]\n",
      " [9.67512488e-01]\n",
      " [9.92024004e-01]\n",
      " [3.68570089e-02]\n",
      " [1.91579920e-06]\n",
      " [9.75597620e-01]\n",
      " [9.90446687e-01]\n",
      " [1.12783909e-03]\n",
      " [2.54979730e-03]\n",
      " [9.96489942e-01]\n",
      " [3.91345143e-01]\n",
      " [9.99063075e-01]\n",
      " [9.91582036e-01]\n",
      " [9.99426365e-01]\n",
      " [9.91547704e-01]\n",
      " [9.88771439e-01]\n",
      " [6.45090222e-01]\n",
      " [4.53997791e-01]\n",
      " [3.04115338e-06]\n",
      " [3.77040803e-02]\n",
      " [9.92590904e-01]\n",
      " [7.45981932e-04]\n",
      " [8.35393727e-01]\n",
      " [9.17931616e-01]\n",
      " [1.23302609e-01]\n",
      " [9.90319312e-01]\n",
      " [9.88743901e-01]\n",
      " [6.87706828e-01]\n",
      " [1.21911973e-01]\n",
      " [1.37791574e-01]\n",
      " [9.84940231e-01]\n",
      " [2.59504557e-01]\n",
      " [9.70864058e-01]\n",
      " [1.63884193e-01]\n",
      " [9.98783231e-01]\n",
      " [9.96579170e-01]\n",
      " [9.92427826e-01]\n",
      " [9.91881490e-01]\n",
      " [9.36542392e-01]\n",
      " [2.20960379e-03]\n",
      " [9.99545336e-01]\n",
      " [9.85532999e-04]\n",
      " [4.69952822e-04]\n",
      " [9.98631895e-01]\n",
      " [7.24226236e-04]\n",
      " [7.35847652e-01]\n",
      " [9.95655656e-01]\n",
      " [9.99314427e-01]\n",
      " [1.83322966e-01]\n",
      " [9.62455332e-01]\n",
      " [1.70629119e-05]\n",
      " [2.47544885e-01]\n",
      " [3.24400127e-01]\n",
      " [1.43405795e-02]\n",
      " [9.36293304e-01]\n",
      " [7.22944379e-01]\n",
      " [9.99211073e-01]\n",
      " [9.92362618e-01]\n",
      " [8.08622122e-01]\n",
      " [9.47931170e-01]\n",
      " [1.19607508e-01]\n",
      " [9.43868041e-01]\n",
      " [9.91978765e-01]\n",
      " [4.64563102e-01]\n",
      " [9.83761013e-01]\n",
      " [1.62899405e-01]\n",
      " [9.90907431e-01]\n",
      " [9.98822033e-01]\n",
      " [7.62421191e-01]\n",
      " [9.05036807e-01]\n",
      " [9.95644152e-01]\n",
      " [9.88641143e-01]\n",
      " [9.85614657e-01]\n",
      " [1.87195801e-05]\n",
      " [8.08512330e-01]\n",
      " [9.70372438e-01]\n",
      " [5.06018281e-01]\n",
      " [9.93940234e-01]]\n"
     ]
    }
   ],
   "source": [
    "p = model.predict(X_test)\n",
    "print(p)"
   ]
  },
  {
   "cell_type": "code",
   "execution_count": 43,
   "id": "52371801",
   "metadata": {},
   "outputs": [
    {
     "name": "stdout",
     "output_type": "stream",
     "text": [
      "[0. 0. 1. 1. 1. 1. 0. 1. 1. 1. 0. 0. 0. 1. 1. 1. 1. 0. 1. 1. 0. 0. 1. 0.\n",
      " 1. 1. 1. 0. 1. 1. 0. 1. 0. 1. 0. 0. 1. 0. 0. 1. 0. 1. 1. 0. 1. 1. 1. 1.\n",
      " 0. 0. 1. 1. 0. 0. 1. 1. 1. 1. 1. 1. 1. 1. 1. 1. 1. 1. 0. 0. 0. 1. 1. 1.\n",
      " 1. 0. 0. 0. 0. 1. 0. 1. 0. 0. 1. 0. 1. 0. 1. 0. 1. 0. 1. 1. 0. 1. 1. 0.\n",
      " 1. 0. 1. 0. 0. 1. 1. 1. 1. 1. 0. 0. 1. 0. 1. 1. 1. 0. 0. 1. 1. 0. 0. 1.\n",
      " 0. 1. 1. 1. 1. 1. 1. 0. 0. 0. 1. 0. 1. 1. 0. 1. 1. 1. 0. 0. 1. 0. 1. 0.\n",
      " 1. 1. 1. 1. 1. 0. 1. 0. 0. 1. 0. 1. 1. 1. 0. 1. 0. 0. 0. 0. 1. 1. 1. 1.\n",
      " 1. 1. 0. 1. 1. 0. 1. 0. 1. 1. 1. 1. 1. 1. 1. 0. 1. 1. 1. 1.]\n"
     ]
    }
   ],
   "source": [
    "# round to get actual predictions\n",
    "# Note : has to be flattened since the targets are size(N,) while the predictions are size(N,1)\n",
    "p = model.predict(X_test)\n",
    "p = np.round(p).flatten()\n",
    "print(p)"
   ]
  },
  {
   "cell_type": "code",
   "execution_count": 45,
   "id": "8b46c212",
   "metadata": {},
   "outputs": [
    {
     "name": "stdout",
     "output_type": "stream",
     "text": [
      "\n",
      "manual calculated accuracy 0.9680851063829787\n",
      "6/6 [==============================] - 0s 601us/step - loss: 0.1242 - accuracy: 0.9681\n",
      "\n",
      "Evaluate output [0.12420634925365448, 0.9680851101875305]\n"
     ]
    }
   ],
   "source": [
    "# calculate the accuracy , campare it to evaluate() output\n",
    "print('\\nmanual calculated accuracy',np.mean(p == y_test))\n",
    "print('\\nEvaluate output',model.evaluate(X_test,y_test))"
   ]
  },
  {
   "cell_type": "code",
   "execution_count": 46,
   "id": "638db593",
   "metadata": {},
   "outputs": [],
   "source": [
    "# Saving and Loading a Model\n",
    "model.save('linearclassifier.h5')"
   ]
  },
  {
   "cell_type": "code",
   "execution_count": 48,
   "id": "02a52430",
   "metadata": {},
   "outputs": [
    {
     "name": "stdout",
     "output_type": "stream",
     "text": [
      "[<keras.layers.core.dense.Dense object at 0x0000029D8D41DFC0>]\n",
      "6/6 [==============================] - 0s 1ms/step - loss: 0.1242 - accuracy: 0.9681\n"
     ]
    },
    {
     "data": {
      "text/plain": [
       "[0.12420634925365448, 0.9680851101875305]"
      ]
     },
     "execution_count": 48,
     "metadata": {},
     "output_type": "execute_result"
    }
   ],
   "source": [
    "model = tf.keras.models.load_model('linearclassifier.h5')\n",
    "print(model.layers)\n",
    "model.evaluate(X_test,y_test)"
   ]
  },
  {
   "cell_type": "code",
   "execution_count": null,
   "id": "c49431d9",
   "metadata": {},
   "outputs": [],
   "source": []
  }
 ],
 "metadata": {
  "kernelspec": {
   "display_name": "Python 3 (ipykernel)",
   "language": "python",
   "name": "python3"
  },
  "language_info": {
   "codemirror_mode": {
    "name": "ipython",
    "version": 3
   },
   "file_extension": ".py",
   "mimetype": "text/x-python",
   "name": "python",
   "nbconvert_exporter": "python",
   "pygments_lexer": "ipython3",
   "version": "3.10.4"
  }
 },
 "nbformat": 4,
 "nbformat_minor": 5
}
